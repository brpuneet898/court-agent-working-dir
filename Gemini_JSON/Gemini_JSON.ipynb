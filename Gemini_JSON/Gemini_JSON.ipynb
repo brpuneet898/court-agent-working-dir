{
 "cells": [
  {
   "cell_type": "code",
   "execution_count": null,
   "id": "6293a5c2",
   "metadata": {},
   "outputs": [],
   "source": [
    "!pip install pymongo pymupdf transformers google"
   ]
  },
  {
   "cell_type": "code",
   "execution_count": null,
   "id": "21b0f784",
   "metadata": {},
   "outputs": [],
   "source": [
    "import fitz  # PyMuPDF\n",
    "import json\n",
    "import os\n",
    "import time\n",
    "from google import genai\n",
    "import torch\n",
    "import numpy as np\n",
    "import matplotlib.pyplot as plt\n",
    "import re"
   ]
  },
  {
   "cell_type": "code",
   "execution_count": null,
   "id": "68ec01c9",
   "metadata": {},
   "outputs": [],
   "source": [
    "def extract_text_from_pdf(pdf_path):\n",
    "    doc = fitz.open(pdf_path)\n",
    "    text = \"\"\n",
    "    for page in doc:\n",
    "        text += page.get_text()\n",
    "    return text"
   ]
  },
  {
   "cell_type": "code",
   "execution_count": null,
   "id": "b48fbf50",
   "metadata": {},
   "outputs": [],
   "source": [
    "client = genai.Client(api_key=\"Enter your API key here\")\n",
    "\n",
    "def extract_order_info_with_gemini(document_text):\n",
    "    prompt = f\"\"\"\n",
    "    Read the following orders on insider trading and return a json object with the following keys:\n",
    "    Date of Order: Date on which the order was passed. (A single date in the formal DD/MM/YYYY)\n",
    "    Date of Action: Date on which the offending action(actual violation or not) was considered to have taken place. (A single date in the formal DD/MM/YYYY)\n",
    "    Order Type: Type of order (Restrict to only 4 types: Settlement, Adjudication, Final or Other)\n",
    "    Case Name: Name of the case or the parties.\n",
    "    Monetary Penalty Imposed: If any monetary penalty imposed. (Return the result in numeric format only)\n",
    "    Non-monetary Penalty: Any other penalty besides monetary, such as barred from trading or non-monetory settlement terms.\n",
    "    Judgment Criteria: The criteria used by the officer to impose the penalty, that is the reasoning offered at the time of judgment.\n",
    "    Penalty Criteria: The reason/calculation used for imposition of the said penalty.\n",
    "    Contextual Metadeta: Brief description of case (15-20 words). Focussing on question law and not case specific facts\n",
    "    Provisions: A list of any PIT-related provisions which were violated\n",
    "    Type of Insider Trading: If violation of disclosure norms, trading on UPSI etc.\n",
    "    Case Summary: Summary of the case in 25-30 words.\n",
    "    PIT Version: Whether violation of PIT, 1992 or PIT, 2015\n",
    "\n",
    "    If multiple people or entities have been punished create a separate json output for each of them (only those on whom a penalty is imposed)\n",
    "\n",
    "    Also try to standardise the results so that further analysis becomes easier, that is try to use similar language and categories while retaining complexities and intracacies of each case.\n",
    "\n",
    "    Document:\n",
    "    \\\"\\\"\\\"\n",
    "    {document_text}\n",
    "    \\\"\\\"\\\"\n",
    "    \"\"\"\n",
    "    response = client.models.generate_content(\n",
    "    model=\"gemini-2.5-flash\", contents=prompt)\n",
    "\n",
    "    answer = response.text\n",
    "    return answer"
   ]
  },
  {
   "cell_type": "code",
   "execution_count": null,
   "id": "673ccc07",
   "metadata": {},
   "outputs": [],
   "source": [
    "def clean_json_output(llm_output):\n",
    "    # Remove markdown code fences and extraneous whitespace\n",
    "    cleaned = re.sub(r\"^```(?:json)?\\s*\", \"\", llm_output, flags=re.IGNORECASE)\n",
    "    cleaned = re.sub(r\"\\s*```$\", \"\", cleaned)\n",
    "    return cleaned.strip()"
   ]
  },
  {
   "cell_type": "code",
   "execution_count": null,
   "id": "4e19f4e3",
   "metadata": {},
   "outputs": [],
   "source": [
    "# Define the folders\n",
    "pdf_folder = r\"Enter the PDF Folder Path Here\"\n",
    "output_folder = r\"Enter the Output Folder Path Here\"\n",
    "\n",
    "# Create the output folder if it doesn't exist.\n",
    "os.makedirs(output_folder, exist_ok=True)\n",
    "\n",
    "# Gather PDF files from the pdf_folder.\n",
    "pdf_files = [f for f in os.listdir(pdf_folder) if f.endswith('.pdf')]\n",
    "counter = 0\n",
    "\n",
    "for pdf_file in pdf_files:\n",
    "    time.sleep(10)  # Delay between processing files.\n",
    "    pdf_path = os.path.join(pdf_folder, pdf_file)\n",
    "\n",
    "    # Extract text from the PDF. (Ensure extract_text_from_pdf is defined elsewhere.)\n",
    "    pdf_text = extract_text_from_pdf(pdf_path)\n",
    "\n",
    "    try:\n",
    "        # Generate the LLM output (ensure extract_order_info_with_gemini is defined).\n",
    "        llm_output = extract_order_info_with_gemini(pdf_text)\n",
    "        cleaned_output = clean_json_output(llm_output)\n",
    "        print(f\"PDF File: {pdf_file}\")\n",
    "        print(\"LLM Output:\")\n",
    "        print(cleaned_output)\n",
    "        print(\"\\n\")\n",
    "        counter += 1\n",
    "        print(f\"Counter: {counter}\")\n",
    "\n",
    "        # Try to convert the LLM output to a Python dictionary.\n",
    "        try:\n",
    "            json_data = json.loads(cleaned_output)\n",
    "        except Exception as json_err:\n",
    "            print(f\"Warning: Could not parse JSON for {pdf_file}: {json_err}\")\n",
    "            # Optionally, wrap the raw output in a dictionary.\n",
    "            json_data = {\"raw_output\": llm_output}\n",
    "\n",
    "        # Generate an output filename by replacing .pdf with .json.\n",
    "        output_filename = os.path.splitext(pdf_file)[0] + \".json\"\n",
    "        output_path = os.path.join(output_folder, output_filename)\n",
    "\n",
    "        # Save the JSON data to the output file.\n",
    "        with open(output_path, 'w', encoding='utf-8') as f:\n",
    "            json.dump(json_data, f, ensure_ascii=False, indent=4)\n",
    "        print(f\"Saved {output_filename}\")\n",
    "\n",
    "    except Exception as e:\n",
    "        print(f\"Error processing {pdf_file}: {e}\")\n",
    "        time.sleep(26)  # Wait before trying the next file if an error occurs.\n",
    "        continue\n"
   ]
  }
 ],
 "metadata": {
  "language_info": {
   "name": "python"
  }
 },
 "nbformat": 4,
 "nbformat_minor": 5
}
